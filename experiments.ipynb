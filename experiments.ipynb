{
 "cells": [
  {
   "cell_type": "code",
   "execution_count": 18,
   "metadata": {},
   "outputs": [
    {
     "name": "stdout",
     "output_type": "stream",
     "text": [
      "\n",
      "vec3(      155.912,     -8.06932,      149.497 )\n",
      "vec3(     -24.0876,      171.931,      30.5028 ) XZY\n",
      "vec3(      24.0876,      171.931,     -30.5028 ) YXZ\n",
      "vec3(     -24.0876,      171.931,      30.5028 ) YZX\n",
      "vec3(      24.0876,      171.931,     -30.5028 ) ZXY\n",
      "\n",
      "vec3(      179.926,      -157.08,      118.425 )\n",
      "vec3(   -0.0741429,     -22.9204,     -61.5748 ) XYZ\n",
      "vec3(   -0.0741438,      22.9204,      61.5748 ) XZY\n",
      "vec3(    0.0741434,      22.9204,     -61.5748 ) YXZ\n",
      "vec3(   -0.0741438,      22.9204,      61.5748 ) YZX\n",
      "vec3(    0.0741434,      22.9204,     -61.5748 ) ZXY\n",
      "vec3(   -0.0741429,     -22.9204,     -61.5748 ) ZYX\n",
      "\n",
      "vec3(      196.369,      -99.279,      71.7792 )\n",
      "vec3(      16.3694,      -80.721,     -108.221 ) XYZ\n",
      "vec3(     -163.631,      -99.279,      71.7792 ) XZY\n",
      "vec3(     -16.3694,       80.721,     -108.221 ) YXZ\n",
      "vec3(     -163.631,      -99.279,      71.7792 ) YZX\n",
      "vec3(     -16.3694,       80.721,     -108.221 ) ZXY\n",
      "vec3(      16.3694,      -80.721,     -108.221 ) ZYX\n",
      "\n",
      "vec3(      218.034,     -32.4597,      192.974 )\n",
      "vec3(     -141.966,     -32.4597,     -167.026 ) XYZ\n",
      "vec3(      38.0338,       147.54,     -12.9741 ) XZY\n",
      "vec3(     -38.0338,       147.54,      12.9741 ) YXZ\n",
      "vec3(      38.0338,       147.54,     -12.9741 ) YZX\n",
      "vec3(     -38.0338,       147.54,      12.9741 ) ZXY\n",
      "vec3(     -141.966,     -32.4597,     -167.026 ) ZYX\n",
      "\n",
      "vec3(      153.928,     -83.9543,      198.018 )\n",
      "vec3(      153.928,     -83.9544,     -161.982 ) XYZ\n",
      "vec3(      -26.072,      96.0457,     -18.0184 ) XZY\n",
      "vec3(       26.072,      96.0458,      18.0184 ) YXZ\n",
      "vec3(      -26.072,      96.0458,     -18.0184 ) YZX\n",
      "vec3(       26.072,      96.0457,      18.0184 ) ZXY\n",
      "vec3(      153.928,     -83.9544,     -161.982 ) ZYX\n",
      "\n",
      "vec3(      142.094,       157.08,      117.697 )\n",
      "vec3(     -37.9064,      22.9204,     -62.3028 ) XYZ\n",
      "vec3(     -37.9064,     -22.9204,      62.3029 ) XZY\n",
      "vec3(      37.9064,     -22.9204,     -62.3029 ) YXZ\n",
      "vec3(     -37.9064,     -22.9204,      62.3028 ) YZX\n",
      "vec3(      37.9064,     -22.9204,     -62.3029 ) ZXY\n",
      "vec3(     -37.9064,      22.9204,     -62.3029 ) ZYX\n",
      "\n",
      "vec3(      118.728,      42.1429,      109.131 )\n",
      "vec3(     -61.2719,     -137.857,      70.8688 ) XZY\n",
      "vec3(      61.2719,     -137.857,     -70.8688 ) YXZ\n",
      "vec3(     -61.2719,     -137.857,      70.8688 ) YZX\n",
      "vec3(      61.2719,     -137.857,     -70.8688 ) ZXY\n",
      "\n",
      "vec3(      92.8977,     -23.5224,       235.91 )\n",
      "vec3(      92.8977,     -23.5224,      -124.09 ) XYZ\n",
      "vec3(     -87.1023,      156.478,     -55.9102 ) XZY\n",
      "vec3(      87.1023,      156.477,      55.9102 ) YXZ\n",
      "vec3(     -87.1023,      156.478,     -55.9102 ) YZX\n",
      "vec3(      87.1022,      156.478,      55.9101 ) ZXY\n",
      "vec3(      92.8977,     -23.5224,      -124.09 ) ZYX\n",
      "\n",
      "vec3(      175.507,      2.28613,      198.334 )\n",
      "vec3(      175.507,      2.28613,     -161.666 ) XYZ\n",
      "vec3(      -4.4934,     -177.714,     -18.3343 ) XZY\n",
      "vec3(       4.4934,     -177.714,      18.3343 ) YXZ\n",
      "vec3(      -4.4934,     -177.714,     -18.3343 ) YZX\n",
      "vec3(       4.4934,     -177.714,      18.3343 ) ZXY\n",
      "vec3(      175.507,      2.28613,     -161.666 ) ZYX\n",
      "\n",
      "vec3(      164.259,       157.08,      134.861 )\n",
      "vec3(     -15.7405,      22.9204,     -45.1389 ) XYZ\n",
      "vec3(     -15.7405,     -22.9204,      45.1389 ) XZY\n",
      "vec3(      15.7405,     -22.9204,     -45.1389 ) YXZ\n",
      "vec3(     -15.7405,     -22.9204,      45.1389 ) YZX\n",
      "vec3(      15.7405,     -22.9204,     -45.1389 ) ZXY\n",
      "vec3(     -15.7405,      22.9204,     -45.1389 ) ZYX\n"
     ]
    }
   ],
   "source": [
    "import transform as tr\n",
    "import numpy\n",
    "import math\n",
    "import glm\n",
    "\n",
    "for i in range(10):\n",
    "    rotation = glm.vec3(-0.305291, -6.4072, 91.6871)\n",
    "    rotation = glm.eulerAngles(glm.quat(numpy.random.rand(4))) * 100\n",
    "    print(f'\\n{rotation}')\n",
    "    for order in ['XYZ', 'XZY', 'YXZ', 'YZX', 'ZXY', 'ZYX']:\n",
    "        orientation = glm.quat()\n",
    "        for axis in order:\n",
    "            if axis == 'X': orientation = glm.rotate(orientation, glm.radians(rotation.x), (1.0, 0.0, 0.0)); continue\n",
    "            if axis == 'Y': orientation = glm.rotate(orientation, glm.radians(rotation.y), (0.0, 1.0, 0.0)); continue\n",
    "            if axis == 'Z': orientation = glm.rotate(orientation, glm.radians(rotation.z), (0.0, 0.0, 1.0)); continue\n",
    "\n",
    "        rotMat = glm.transpose(glm.mat3_cast(orientation))\n",
    "        result = glm.degrees(glm.vec3(tr.euler.fromMatTo(rotMat, order)))\n",
    "\n",
    "        if glm.length(rotation - result) > .1:\n",
    "            print(f'{result} {order}')\n"
   ]
  },
  {
   "cell_type": "code",
   "execution_count": 17,
   "metadata": {},
   "outputs": [
    {
     "name": "stdout",
     "output_type": "stream",
     "text": [
      "180.000439319\n"
     ]
    }
   ],
   "source": [
    "import numpy\n",
    "\n",
    "fileA = None\n",
    "fileB = None\n",
    "\n",
    "with open('a.bvh', \"r\") as file:\n",
    "    data = []\n",
    "    for line in file:\n",
    "        line = line.strip().split()\n",
    "        data.append(numpy.array(list(map(float, line))))\n",
    "    fileA = numpy.array(data)\n",
    "    \n",
    "with open('b.bvh', \"r\") as file:\n",
    "    data = []\n",
    "    for line in file:\n",
    "        line = line.strip().split()\n",
    "        data.append(numpy.array(list(map(float, line))))\n",
    "    fileB = numpy.array(data)\n",
    "\n",
    "res = numpy.abs(fileA - fileB)\n",
    "print(numpy.max(res))\n",
    "    "
   ]
  },
  {
   "cell_type": "code",
   "execution_count": null,
   "metadata": {},
   "outputs": [],
   "source": []
  }
 ],
 "metadata": {
  "kernelspec": {
   "display_name": "Python 3.9.13 64-bit",
   "language": "python",
   "name": "python3"
  },
  "language_info": {
   "codemirror_mode": {
    "name": "ipython",
    "version": 3
   },
   "file_extension": ".py",
   "mimetype": "text/x-python",
   "name": "python",
   "nbconvert_exporter": "python",
   "pygments_lexer": "ipython3",
   "version": "3.9.13 (tags/v3.9.13:6de2ca5, May 17 2022, 16:36:42) [MSC v.1929 64 bit (AMD64)]"
  },
  "orig_nbformat": 4,
  "vscode": {
   "interpreter": {
    "hash": "4fbfea1dd5a17f80dff8df3ba641602c59e31ce1a55b82aea18e6894ff3c71a7"
   }
  }
 },
 "nbformat": 4,
 "nbformat_minor": 2
}
