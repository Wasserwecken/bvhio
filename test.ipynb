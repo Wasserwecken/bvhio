{
 "cells": [
  {
   "attachments": {},
   "cell_type": "markdown",
   "metadata": {},
   "source": [
    "pip install bvhio --upgrade"
   ]
  },
  {
   "attachments": {},
   "cell_type": "markdown",
   "metadata": {},
   "source": [
    "# README"
   ]
  },
  {
   "cell_type": "code",
   "execution_count": 28,
   "metadata": {},
   "outputs": [
    {
     "name": "stdout",
     "output_type": "stream",
     "text": [
      "Hips\n",
      "+- Chest\n",
      "|  +- Neck\n",
      "|  |  +- Head\n",
      "|  +- LeftCollar\n",
      "|  |  +- LeftUpArm\n",
      "|  |     +- LeftLowArm\n",
      "|  |        +- LeftHand\n",
      "|  +- RightCollar\n",
      "|     +- RightUpArm\n",
      "|        +- RightLowArm\n",
      "|           +- RightHand\n",
      "+- LeftUpLeg\n",
      "|  +- LeftLowLeg\n",
      "|     +- LeftFoot\n",
      "+- RightUpLeg\n",
      "   +- RightLowLeg\n",
      "      +- RightFoot\n",
      "\n",
      "Rest pose position and Y-direction of each joint in world space \n",
      "vec3(            0,            0,            0 ) vec3(            0,            1,            0 ) Hips\n",
      "vec3(            0,         5.21,            0 ) vec3(            0,     0.997333,    0.0729792 ) Chest\n",
      "vec3(            0,        23.86,  1.19209e-07 ) vec3(            0,            1,            0 ) Neck\n",
      "vec3(            0,        29.31,  1.19209e-07 ) vec3(            0,            1,            0 ) Head\n",
      "vec3(         1.12,        21.44,         1.87 ) vec3(            1,  5.96046e-08,            0 ) LeftCollar\n",
      "vec3(         6.66,        21.44,         1.87 ) vec3(            0,           -1,            0 ) LeftUpArm\n",
      "vec3(         6.66,         9.48,         1.87 ) vec3(            0,           -1,            0 ) LeftLowArm\n",
      "vec3(         6.66,    -0.450002,         1.87 ) vec3(            0,           -1,            0 ) LeftHand\n",
      "vec3(        -1.12,        21.44,         1.87 ) vec3(           -1,  5.96046e-08,            0 ) RightCollar\n",
      "vec3(        -7.19,        21.44,         1.87 ) vec3(            0,           -1,            0 ) RightUpArm\n",
      "vec3(        -7.19,         9.62,         1.87 ) vec3(            0,           -1,            0 ) RightLowArm\n",
      "vec3(        -7.19,        -1.03,         1.87 ) vec3(            0,           -1,            0 ) RightHand\n",
      "vec3(         3.91,            0,            0 ) vec3(            0,           -1,            0 ) LeftUpLeg\n",
      "vec3(         3.91,       -18.34,            0 ) vec3(            0,           -1,            0 ) LeftLowLeg\n",
      "vec3(         3.91,       -35.71,            0 ) vec3(            0,           -1,            0 ) LeftFoot\n",
      "vec3(        -3.91,            0,            0 ) vec3(            0,           -1,            0 ) RightUpLeg\n",
      "vec3(        -3.91,       -17.63,            0 ) vec3(            0,           -1,            0 ) RightLowLeg\n",
      "vec3(        -3.91,       -34.77,            0 ) vec3(            0,           -1,            0 ) RightFoot\n"
     ]
    }
   ],
   "source": [
    "import bvhio\n",
    "\n",
    "# Reads the file into a transform tree structure and converts all data to build proper local and world spaces.\n",
    "# This structure allows for extensive read of properties and spaces and does also support modifications of the animation.\n",
    "root = bvhio.readAsHierarchy('bvhio/tests/example.bvh')\n",
    "root.printTree()\n",
    "\n",
    "# load rest pose and print data\n",
    "root.loadRestPose(recursive=True)\n",
    "print('\\nRest pose position and Y-direction of each joint in world space ')\n",
    "for joint, index, depth in root.layout():\n",
    "    print(f'{joint.PositionWorld} {joint.UpWorld} {joint.Name}')"
   ]
  },
  {
   "cell_type": "code",
   "execution_count": 29,
   "metadata": {},
   "outputs": [
    {
     "name": "stdout",
     "output_type": "stream",
     "text": [
      "Root: Hips\n",
      "Frames: 2\n",
      "Frame time: 0.033333\n"
     ]
    }
   ],
   "source": [
    "import bvhio\n",
    "\n",
    "# Reads the file into a deserialized tree structure.\n",
    "bvh = bvhio.readAsBvh('bvhio/tests/example.bvh')\n",
    "print(f'Root: {bvh.Root}')\n",
    "print(f'Frames: {bvh.FrameCount}')\n",
    "print(f'Frame time: {bvh.FrameTime}')\n",
    "\n",
    "# Properties of joints in the bvh tree structure.\n",
    "bvh.Root.Name\n",
    "bvh.Root.Offset\n",
    "bvh.Root.Channels\n",
    "bvh.Root.EndSite\n",
    "bvh.Root.Keyframes\n",
    "bvh.Root.Children\n",
    "\n",
    "# Calculated properties that depend on the hierarchy.\n",
    "bvh.Root.getRotation()\n",
    "bvh.Root.getLength()\n",
    "bvh.Root.getTip()\n",
    "pass"
   ]
  },
  {
   "cell_type": "code",
   "execution_count": 30,
   "metadata": {},
   "outputs": [
    {
     "data": {
      "text/plain": [
       "Head"
      ]
     },
     "execution_count": 30,
     "metadata": {},
     "output_type": "execute_result"
    }
   ],
   "source": [
    "import bvhio\n",
    "\n",
    "# The 'Joint' object allows for reading and modifing animations.\n",
    "# Most of the functionality is based on the package 'spatial-transform'.\n",
    "hierarchy = bvhio.readAsHierarchy('bvhio/tests/example.bvh')\n",
    "\n",
    "# joints from the hierarchy can be selected by their name\n",
    "joint = hierarchy.filter('Head')[0]\n",
    "\n",
    "# Some methods and properties have been added to work with keyframe and joint data\n",
    "joint.Keyframes         # list of local animation data\n",
    "joint.loadPose(0)        # sets the transform data to a specific keyframe\n",
    "joint.writePose(0)       # writes the current transform data into a keyframe\n",
    "joint.roll(0)            # changes the rotation of a bone around its own axis without affcting the children\n",
    "\n",
    "# Some methods do also update the keyframes to no destroy the animation data\n",
    "# Please refer to the package 'spatial-transform' for their behaviour\n",
    "joint.clearParent()\n",
    "joint.clearChildren()\n",
    "joint.attach()\n",
    "joint.detach()\n",
    "joint.applyPosition()\n",
    "joint.applyRotation()\n",
    "joint.applyScale()"
   ]
  },
  {
   "cell_type": "code",
   "execution_count": 31,
   "metadata": {},
   "outputs": [
    {
     "name": "stdout",
     "output_type": "stream",
     "text": [
      "\n",
      "Position and Y-direction of each joint in world space \n",
      "vec3(            0,            0,            0 ) vec3(            0,            1,            0 ) Root\n",
      "vec3(    -0.203962,     0.889254,     -2.24434 ) vec3(   -0.0575126,     0.965201,    -0.255108 ) Hips\n",
      "vec3(    -0.211573,      1.01698,      -2.2781 ) vec3(   -0.0481175,     0.852046,     0.521251 ) Chest\n",
      "vec3(    -0.232769,      1.43762,     -2.06126 ) vec3(    -0.163858,     0.314978,     0.934847 ) Neck\n",
      "vec3(    -0.255451,      1.48122,     -1.93185 ) vec3(    -0.136333,     0.863658,     0.485292 ) Head\n",
      "vec3(    -0.203905,      1.36171,     -2.04548 ) vec3(     0.967669,     0.251636,   -0.0172419 ) LeftCollar\n",
      "vec3(   -0.0677384,      1.39712,     -2.04791 ) vec3(     0.901112,     0.170623,     0.398605 ) LeftUpArm\n",
      "vec3(     0.206005,      1.44895,     -1.92682 ) vec3(    -0.212169,    -0.689803,     0.692213 ) LeftLowArm\n",
      "vec3(     0.152491,      1.27497,     -1.75223 ) vec3(     -0.21588,    -0.681082,     0.699661 ) LeftHand\n",
      "vec3(    -0.260679,       1.3607,     -2.04907 ) vec3(    -0.953783,     0.278612,     -0.11258 ) RightCollar\n",
      "vec3(    -0.407731,      1.40366,     -2.06643 ) vec3(    -0.992285,     0.105528,    0.0650799 ) RightUpArm\n",
      "vec3(    -0.705642,      1.43534,     -2.04689 ) vec3(    -0.105734,     0.764633,     0.635733 ) RightLowArm\n",
      "vec3(    -0.734245,      1.64218,     -1.87492 ) vec3(    -0.117056,     0.781042,      0.61341 ) RightHand\n",
      "vec3(    -0.108093,      0.88812,     -2.27025 ) vec3(     0.182967,    -0.963475,    -0.195552 ) LeftUpLeg\n",
      "vec3(   -0.0228604,     0.439299,     -2.36134 ) vec3(    0.0743764,    -0.450022,    -0.889915 ) LeftLowLeg\n",
      "vec3(   0.00995436,      0.24075,     -2.75397 ) vec3(     0.085988,    -0.463928,     -0.88169 ) LeftFoot\n",
      "vec3(    -0.299832,     0.890388,     -2.21844 ) vec3(    -0.170185,    -0.858689,     0.483414 ) RightUpLeg\n",
      "vec3(    -0.376041,     0.505865,     -2.00197 ) vec3(    -0.135822,     -0.89424,    -0.426482 ) RightLowLeg\n",
      "vec3(    -0.435172,     0.116553,     -2.18764 ) vec3(    -0.188425,    -0.981787,    -0.024278 ) RightFoot\n"
     ]
    }
   ],
   "source": [
    "import bvhio\n",
    "\n",
    "# The package allows to make modifcation on the animation data very conviniently.\n",
    "root = bvhio.readAsHierarchy('bvhio/tests/example.bvh')\n",
    "\n",
    "# Add a root bone to the hierarchy and set itself as 'root'.\n",
    "root = bvhio.Joint('Root').attach(root, keep=['position', 'rotation', 'scale'])\n",
    "\n",
    "# Scale so the data represent roughly meters, assuming the data is in inches.\n",
    "# Because the scale is on the root and the rest pose, it is applied to all world space data.\n",
    "root.RestPose.Scale = 0.0254\n",
    "\n",
    "# this bakes the rest pos scale of 0.0254 into the positions,\n",
    "# so that the scale can be reseted to 1 again.\n",
    "root.applyRestposeScale(recursive=True, bakeKeyframes=True)\n",
    "\n",
    "# tursn the animation by 180 degrees.\n",
    "# Keep in mind that local keyframe and child rest pose data is still untouched.\n",
    "root.RestPose.addEuler((0, 180, 0))\n",
    "\n",
    "# Set all joints to the first keyframe.\n",
    "# The animation pose is calculated by -> Pose = RestPose + Keyframe.\n",
    "root.loadPose(0)\n",
    "\n",
    "# print info\n",
    "print('\\nPosition and Y-direction of each joint in world space ')\n",
    "for joint, index, depth in root.layout():\n",
    "    print(f'{joint.PositionWorld} {joint.UpWorld} {joint.Name}')"
   ]
  },
  {
   "cell_type": "code",
   "execution_count": 32,
   "metadata": {},
   "outputs": [
    {
     "name": "stdout",
     "output_type": "stream",
     "text": [
      "Change in positions in centimeters between frame 0 and 1:\n",
      "vec3(            0,            0,            0 ) Root\n",
      "vec3(    -0.558798,       0.2286,      -4.8006 ) Hips\n",
      "vec3(    -0.469618,     0.324989,     -5.21318 ) Chest\n",
      "vec3(     0.296169,     -1.28726,     -8.01178 ) Neck\n",
      "vec3(     0.350996,     -2.16693,     -8.26605 ) Head\n",
      "vec3(     0.161901,     -1.32426,     -7.49876 ) LeftCollar\n",
      "vec3(     0.790674,  0.000457764,     -10.1185 ) LeftUpArm\n",
      "vec3(      1.05577,      3.92007,     -8.26009 ) LeftLowArm\n",
      "vec3(     0.350739,      5.54311,     -9.92455 ) LeftHand\n",
      "vec3(     0.158957,     -1.40071,     -7.48221 ) RightCollar\n",
      "vec3(    -0.532215,     -1.32915,     -4.50168 ) RightUpArm\n",
      "vec3(    -0.389343,     -4.22717,     -4.83904 ) RightLowArm\n",
      "vec3(      2.33563,     -6.29668,     -6.45831 ) RightHand\n",
      "vec3(    -0.659554,     0.479576,     -5.20877 ) LeftUpLeg\n",
      "vec3(     -2.30601,    0.0990372,     -10.0871 ) LeftLowLeg\n",
      "vec3(      1.48517,     0.579193,     -9.71515 ) LeftFoot\n",
      "vec3(     -0.45804,    -0.022377,     -4.39243 ) RightUpLeg\n",
      "vec3(     0.278942,    -0.908985,     -2.43927 ) RightLowLeg\n",
      "vec3(     0.042263,      0.13649,    -0.323273 ) RightFoot\n"
     ]
    }
   ],
   "source": [
    "import bvhio\n",
    "\n",
    "root = bvhio.readAsHierarchy('bvhio/tests/example.bvh')\n",
    "root = bvhio.Joint('Root', restPose=bvhio.Transform(scale=2.54)).attach(root)\n",
    "\n",
    "# Load poses, then extract from all joints their position in world space.\n",
    "pose0positions = [joint.PositionWorld for (joint, index, depth) in root.loadPose(0).layout()]\n",
    "pose1positions = [joint.PositionWorld for (joint, index, depth) in root.loadPose(1).layout()]\n",
    "\n",
    "print('Change in positions in centimeters between frame 0 and 1:')\n",
    "for (joint, index, depth) in root.layout():\n",
    "    print(f'{pose1positions[index] - pose0positions[index]} {joint.Name}')"
   ]
  },
  {
   "cell_type": "code",
   "execution_count": 33,
   "metadata": {},
   "outputs": [],
   "source": [
    "import bvhio\n",
    "\n",
    "# load data as simple deserialized structure\n",
    "bvhRoot = bvhio.readAsBvh('bvhio/tests/example.bvh').Root\n",
    "\n",
    "# convert to a joint hierarchy\n",
    "hierarchyRoot = bvhio.convertBvhToHierarchy(bvhRoot)\n",
    "\n",
    "# convert them back to simple deserialized structure.\n",
    "# the frame count needs to be given, and the max frame id is selected.\n",
    "bvhRoot = bvhio.convertHierarchyToBvh(hierarchyRoot, hierarchyRoot.getKeyframeRange()[1] + 1)\n",
    "\n",
    "# writes the data back into a .bvh file\n",
    "bvhio.writeBvh('test.bvh', bvhio.BvhContainer(bvhRoot, len(bvhRoot.Keyframes), 1/30))"
   ]
  },
  {
   "cell_type": "code",
   "execution_count": 34,
   "metadata": {},
   "outputs": [],
   "source": [
    "import bvhio\n",
    "\n",
    "# load data\n",
    "root = bvhio.readAsHierarchy('bvhio/tests/example.bvh')\n",
    "\n",
    "# scales the frame id of the two given frames.\n",
    "# this will restult in the ids 0 and 100.\n",
    "# frames without keyframe are linearly interpolated.\n",
    "for joint, index, depth in root.layout():\n",
    "    joint.Keyframes = [(frame * 100, key) for frame, key in joint.Keyframes]\n",
    "\n",
    "# persists the interpolations automatically\n",
    "bvhio.writeHierarchy('test.bvh', root, 1/30)"
   ]
  },
  {
   "cell_type": "code",
   "execution_count": 35,
   "metadata": {},
   "outputs": [],
   "source": [
    "import bvhio\n",
    "\n",
    "# create custom hierarchy.\n",
    "root = bvhio.Joint('Root', (0,2,0)).setEuler((0,0,0)).attach(\n",
    "    bvhio.Joint('UpperLegL', (+.3,2.1,0)).setEuler((0,0,180)).attach(\n",
    "        bvhio.Joint('LowerLegL', (+.3,1,0)).setEuler((0,0,180))\n",
    "    ),\n",
    "    bvhio.Joint('UpperLegR', (-.3,2.1,0)).setEuler((0,0,180)).attach(\n",
    "        bvhio.Joint('LowerLegR', (-.3,1,0)).setEuler((0,0,180))\n",
    "    ),\n",
    ")\n",
    "\n",
    "# sets current layout as rest pose\n",
    "root.writeRestPose(recursive=True)\n",
    "\n",
    "# change the pose of the hierarchy to save it alter as key frame\n",
    "# this will add a rotation to each leg joint for left and right side\n",
    "for joint in root.filter('LegL'):\n",
    "    joint.Rotation *= bvhio.Euler.toQuatFrom((+0.523599,0,0))\n",
    "for joint in root.filter('LegR'):\n",
    "    joint.Rotation *= bvhio.Euler.toQuatFrom((-0.523599,0,0))\n",
    "\n",
    "# Persists the current pose as pose.\n",
    "# This will calculate the keyframe differences to the rest pose.\n",
    "root.writePose(0, recursive=True)\n",
    "\n",
    "# The rest pose is loaded first to have the base pose again, this is not necessary.\n",
    "root.loadRestPose(recursive=True)\n",
    "\n",
    "# Now the same thing again with other rotations two have two keyframes.\n",
    "for joint in root.filter('LegL'):\n",
    "    joint.Rotation *= bvhio.Euler.toQuatFrom((-0.523599,0,0))\n",
    "for joint in root.filter('LegR'):\n",
    "    joint.Rotation *= bvhio.Euler.toQuatFrom((+0.523599,0,0))\n",
    "\n",
    "# persists the current pose again as new pose.\n",
    "# All keyframes between the first and this pose are linearly interpolated.\n",
    "root.writePose(20, recursive=True)\n",
    "\n",
    "# store the animation\n",
    "bvhio.writeHierarchy('test.bvh', root, 1/30, percision=4)"
   ]
  }
 ],
 "metadata": {
  "kernelspec": {
   "display_name": "Python 3",
   "language": "python",
   "name": "python3"
  },
  "language_info": {
   "codemirror_mode": {
    "name": "ipython",
    "version": 3
   },
   "file_extension": ".py",
   "mimetype": "text/x-python",
   "name": "python",
   "nbconvert_exporter": "python",
   "pygments_lexer": "ipython3",
   "version": "3.9.13"
  },
  "orig_nbformat": 4,
  "vscode": {
   "interpreter": {
    "hash": "864323a39c18a1ade2bdf9707c04ff6c86bcf165d3ca262f89a74665bc096b3f"
   }
  }
 },
 "nbformat": 4,
 "nbformat_minor": 2
}
