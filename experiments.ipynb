{
 "cells": [
  {
   "cell_type": "code",
   "execution_count": 2,
   "metadata": {},
   "outputs": [],
   "source": [
    "import glm"
   ]
  },
  {
   "cell_type": "code",
   "execution_count": 7,
   "metadata": {},
   "outputs": [
    {
     "name": "stdout",
     "output_type": "stream",
     "text": [
      "[       0.2314 ][     -1.55413 ][     0.350691 ][      1.29551 ]\n",
      "[       0.1976 ][      1.81377 ][     0.304239 ][     -1.46475 ]\n",
      "[      -0.1595 ][  -0.00767804 ][      0.88569 ][      1.95498 ]\n",
      "[            0 ][            0 ][            0 ][            1 ]\n",
      "\n",
      "\n",
      "[            1 ][            0 ][            0 ][      -0.8775 ]\n",
      "[            0 ][            1 ][            0 ][      -1.9615 ]\n",
      "[            0 ][            0 ][            1 ][       1.7402 ]\n",
      "[            0 ][            0 ][            0 ][            1 ]\n",
      "[            1 ][            0 ][            0 ][      -0.8775 ]\n",
      "[            0 ][            1 ][            0 ][      -1.9615 ]\n",
      "[            0 ][            0 ][            1 ][       1.7402 ]\n",
      "[            0 ][            0 ][            0 ][            1 ]\n"
     ]
    }
   ],
   "source": [
    "\n",
    "foo = glm.mat4( 0.2314, -1.5541, 0.3507, -0.8775,\n",
    "                0.1976,  1.8138, 0.3042, -1.9615,\n",
    "                -0.1595, -0.0077, 0.8857,  1.7402,\n",
    "                0.0000,  0.0000, 0.0000,  1.0000)\n",
    "\n",
    "foo = glm.transpose(foo)\n",
    "scale = glm.vec3()\n",
    "orientation = glm.quat()\n",
    "translation = glm.vec3()\n",
    "glm.decompose(foo, scale, orientation, translation, glm.vec3(), glm.vec4())\n",
    "\n",
    "\n",
    "bar = glm.mat4()\n",
    "bar = glm.translate(bar, translation)\n",
    "bar = glm.scale(bar, scale)\n",
    "bar = glm.mat4_cast(orientation) * bar\n",
    "\n",
    "print(bar)\n",
    "\n",
    "print('')\n",
    "print('')\n",
    "\n",
    "print(glm.translate(glm.mat4(), translation))\n",
    "print(glm.translate(translation))\n"
   ]
  },
  {
   "cell_type": "code",
   "execution_count": 1,
   "metadata": {},
   "outputs": [
    {
     "name": "stdout",
     "output_type": "stream",
     "text": [
      "Setting value...\n",
      "Getting value...\n",
      "37\n",
      "Getting value...\n",
      "98.60000000000001\n",
      "Setting value...\n"
     ]
    },
    {
     "ename": "ValueError",
     "evalue": "Temperature below -273 is not possible",
     "output_type": "error",
     "traceback": [
      "\u001b[1;31m---------------------------------------------------------------------------\u001b[0m",
      "\u001b[1;31mValueError\u001b[0m                                Traceback (most recent call last)",
      "\u001b[1;32me:\\Code\\Privat\\Python\\bvhio\\experiments.ipynb Zelle 3\u001b[0m in \u001b[0;36m<cell line: 29>\u001b[1;34m()\u001b[0m\n\u001b[0;32m     <a href='vscode-notebook-cell:/e%3A/Code/Privat/Python/bvhio/experiments.ipynb#W2sZmlsZQ%3D%3D?line=24'>25</a>\u001b[0m \u001b[39mprint\u001b[39m(human\u001b[39m.\u001b[39mtemperature)\n\u001b[0;32m     <a href='vscode-notebook-cell:/e%3A/Code/Privat/Python/bvhio/experiments.ipynb#W2sZmlsZQ%3D%3D?line=26'>27</a>\u001b[0m \u001b[39mprint\u001b[39m(human\u001b[39m.\u001b[39mto_fahrenheit())\n\u001b[1;32m---> <a href='vscode-notebook-cell:/e%3A/Code/Privat/Python/bvhio/experiments.ipynb#W2sZmlsZQ%3D%3D?line=28'>29</a>\u001b[0m coldest_thing \u001b[39m=\u001b[39m Celsius(\u001b[39m-\u001b[39;49m\u001b[39m300\u001b[39;49m)\n",
      "\u001b[1;32me:\\Code\\Privat\\Python\\bvhio\\experiments.ipynb Zelle 3\u001b[0m in \u001b[0;36mCelsius.__init__\u001b[1;34m(self, temperature)\u001b[0m\n\u001b[0;32m      <a href='vscode-notebook-cell:/e%3A/Code/Privat/Python/bvhio/experiments.ipynb#W2sZmlsZQ%3D%3D?line=2'>3</a>\u001b[0m \u001b[39mdef\u001b[39;00m \u001b[39m__init__\u001b[39m(\u001b[39mself\u001b[39m, temperature\u001b[39m=\u001b[39m\u001b[39m0\u001b[39m):\n\u001b[1;32m----> <a href='vscode-notebook-cell:/e%3A/Code/Privat/Python/bvhio/experiments.ipynb#W2sZmlsZQ%3D%3D?line=3'>4</a>\u001b[0m     \u001b[39mself\u001b[39;49m\u001b[39m.\u001b[39;49mtemperature \u001b[39m=\u001b[39m temperature\n",
      "\u001b[1;32me:\\Code\\Privat\\Python\\bvhio\\experiments.ipynb Zelle 3\u001b[0m in \u001b[0;36mCelsius.temperature\u001b[1;34m(self, value)\u001b[0m\n\u001b[0;32m     <a href='vscode-notebook-cell:/e%3A/Code/Privat/Python/bvhio/experiments.ipynb#W2sZmlsZQ%3D%3D?line=15'>16</a>\u001b[0m \u001b[39mprint\u001b[39m(\u001b[39m\"\u001b[39m\u001b[39mSetting value...\u001b[39m\u001b[39m\"\u001b[39m)\n\u001b[0;32m     <a href='vscode-notebook-cell:/e%3A/Code/Privat/Python/bvhio/experiments.ipynb#W2sZmlsZQ%3D%3D?line=16'>17</a>\u001b[0m \u001b[39mif\u001b[39;00m value \u001b[39m<\u001b[39m \u001b[39m-\u001b[39m\u001b[39m273.15\u001b[39m:\n\u001b[1;32m---> <a href='vscode-notebook-cell:/e%3A/Code/Privat/Python/bvhio/experiments.ipynb#W2sZmlsZQ%3D%3D?line=17'>18</a>\u001b[0m     \u001b[39mraise\u001b[39;00m \u001b[39mValueError\u001b[39;00m(\u001b[39m\"\u001b[39m\u001b[39mTemperature below -273 is not possible\u001b[39m\u001b[39m\"\u001b[39m)\n\u001b[0;32m     <a href='vscode-notebook-cell:/e%3A/Code/Privat/Python/bvhio/experiments.ipynb#W2sZmlsZQ%3D%3D?line=18'>19</a>\u001b[0m \u001b[39mself\u001b[39m\u001b[39m.\u001b[39m_temperature \u001b[39m=\u001b[39m value\n",
      "\u001b[1;31mValueError\u001b[0m: Temperature below -273 is not possible"
     ]
    }
   ],
   "source": [
    "# Using @property decorator\n",
    "class Celsius:\n",
    "    def __init__(self, temperature=0):\n",
    "        self.temperature = temperature\n",
    "\n",
    "    def to_fahrenheit(self):\n",
    "        return (self.temperature * 1.8) + 32\n",
    "\n",
    "    @property\n",
    "    def temperature(self):\n",
    "        print(\"Getting value...\")\n",
    "        return self._temperature\n",
    "\n",
    "    @temperature.setter\n",
    "    def temperature(self, value):\n",
    "        print(\"Setting value...\")\n",
    "        if value < -273.15:\n",
    "            raise ValueError(\"Temperature below -273 is not possible\")\n",
    "        self._temperature = value\n",
    "\n",
    "\n",
    "# create an object\n",
    "human = Celsius(37)\n",
    "\n",
    "print(human.temperature)\n",
    "\n",
    "print(human.to_fahrenheit())\n",
    "\n",
    "coldest_thing = Celsius(-300)"
   ]
  },
  {
   "cell_type": "code",
   "execution_count": 1,
   "metadata": {},
   "outputs": [
    {
     "name": "stdout",
     "output_type": "stream",
     "text": [
      "['joint_Root', 'Hips', 'Spine', 'Chest', 'Neck', 'Head', 'Shoulder_L', 'UpperArm_L', 'LowerArm_L', 'Hand_L', 'Shoulder_R', 'UpperArm_R', 'LowerArm_R', 'Hand_R', 'UpperLeg_L', 'LowerLeg_L', 'Foot_L', 'Toes_L', 'UpperLeg_R', 'LowerLeg_R', 'Foot_R', 'Toes_R']\n"
     ]
    }
   ],
   "source": [
    "import bvhio\n",
    "import glm\n",
    "\n",
    "result = bvhio.deserialize('foo.bvh')\n",
    "print(result.Hierarchy.indicies())\n",
    "\n",
    "for t in result.Hierarchy."
   ]
  }
 ],
 "metadata": {
  "kernelspec": {
   "display_name": "Python 3.9.13 64-bit",
   "language": "python",
   "name": "python3"
  },
  "language_info": {
   "codemirror_mode": {
    "name": "ipython",
    "version": 3
   },
   "file_extension": ".py",
   "mimetype": "text/x-python",
   "name": "python",
   "nbconvert_exporter": "python",
   "pygments_lexer": "ipython3",
   "version": "3.9.13"
  },
  "orig_nbformat": 4,
  "vscode": {
   "interpreter": {
    "hash": "4fbfea1dd5a17f80dff8df3ba641602c59e31ce1a55b82aea18e6894ff3c71a7"
   }
  }
 },
 "nbformat": 4,
 "nbformat_minor": 2
}
