{
 "cells": [
  {
   "cell_type": "code",
   "execution_count": 9,
   "metadata": {},
   "outputs": [],
   "source": [
    "import transform as tr\n",
    "import numpy\n",
    "import math\n",
    "import glm"
   ]
  },
  {
   "cell_type": "code",
   "execution_count": 2,
   "metadata": {},
   "outputs": [],
   "source": [
    "import transform as tr\n",
    "import numpy\n",
    "import math\n",
    "import glm\n",
    "\n",
    "for i in range(10000):\n",
    "    rotation = glm.vec3(-0.305291, -6.4072, 91.6871)\n",
    "    rotation = glm.eulerAngles(glm.quat(numpy.random.rand(4))) * 10\n",
    "    # print(f'\\n{rotation}')\n",
    "    for order in ['XYZ', 'XZY', 'YXZ', 'YZX', 'ZXY', 'ZYX']:\n",
    "        orientation = glm.quat()\n",
    "        for axis in order:\n",
    "            if axis == 'X': orientation = glm.rotate(orientation, glm.radians(rotation.x), (1.0, 0.0, 0.0)); continue\n",
    "            if axis == 'Y': orientation = glm.rotate(orientation, glm.radians(rotation.y), (0.0, 1.0, 0.0)); continue\n",
    "            if axis == 'Z': orientation = glm.rotate(orientation, glm.radians(rotation.z), (0.0, 0.0, 1.0)); continue\n",
    "\n",
    "        rotMat = glm.mat3_cast(orientation)\n",
    "        result = glm.degrees(glm.vec3(tr.Euler.fromMatTo(rotMat, order)))\n",
    "\n",
    "        if glm.length(rotation - result) > .0001:\n",
    "            print(f'{result} {order}')\n"
   ]
  },
  {
   "cell_type": "code",
   "execution_count": 2,
   "metadata": {},
   "outputs": [
    {
     "data": {
      "text/plain": [
       "vec3( -0.987987, -0.154535, -2.38419e-07 )"
      ]
     },
     "execution_count": 2,
     "metadata": {},
     "output_type": "execute_result"
    }
   ],
   "source": [
    "import glm\n",
    "\n",
    "dir = (0.9879873394966125, 0.15453454852104187, 2.58643666484204e-07)\n",
    "rot = glm.quatLookAtRH(dir, (0,0,1))\n"
   ]
  },
  {
   "cell_type": "code",
   "execution_count": 4,
   "metadata": {},
   "outputs": [
    {
     "name": "stdout",
     "output_type": "stream",
     "text": [
      "['Okay']\n"
     ]
    }
   ],
   "source": [
    "foo = []\n",
    "\n",
    "foo.insert(10, 'Okay')\n",
    "print(foo)"
   ]
  },
  {
   "cell_type": "code",
   "execution_count": null,
   "metadata": {},
   "outputs": [],
   "source": []
  }
 ],
 "metadata": {
  "kernelspec": {
   "display_name": "Python 3.9.13 64-bit",
   "language": "python",
   "name": "python3"
  },
  "language_info": {
   "codemirror_mode": {
    "name": "ipython",
    "version": 3
   },
   "file_extension": ".py",
   "mimetype": "text/x-python",
   "name": "python",
   "nbconvert_exporter": "python",
   "pygments_lexer": "ipython3",
   "version": "3.9.13"
  },
  "orig_nbformat": 4,
  "vscode": {
   "interpreter": {
    "hash": "4fbfea1dd5a17f80dff8df3ba641602c59e31ce1a55b82aea18e6894ff3c71a7"
   }
  }
 },
 "nbformat": 4,
 "nbformat_minor": 2
}
